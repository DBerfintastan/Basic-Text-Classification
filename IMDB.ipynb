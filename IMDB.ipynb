{
  "cells": [
    {
      "cell_type": "code",
      "execution_count": null,
      "metadata": {
        "id": "9CQdU6_j7xkl"
      },
      "outputs": [],
      "source": [
        "import matplotlib.pyplot as plt\n",
        "import os\n",
        "import re\n",
        "import shutil\n",
        "import string\n",
        "import tensorflow as tf\n",
        "\n",
        "from tensorflow.keras import layers\n",
        "from tensorflow.keras import losses\n",
        "#Kütüphaneler projeye ekleniyor."
      ]
    },
    {
      "cell_type": "code",
      "execution_count": null,
      "metadata": {
        "colab": {
          "base_uri": "https://localhost:8080/"
        },
        "id": "xQdDy12c8I9D",
        "outputId": "8c675bb1-573f-45c3-af6d-1bf7199625ae"
      },
      "outputs": [
        {
          "name": "stdout",
          "output_type": "stream",
          "text": [
            "Downloading data from https://ai.stanford.edu/~amaas/data/sentiment/aclImdb_v1.tar.gz\n",
            "84131840/84125825 [==============================] - 3s 0us/step\n",
            "84140032/84125825 [==============================] - 3s 0us/step\n"
          ]
        }
      ],
      "source": [
        "url = \"https://ai.stanford.edu/~amaas/data/sentiment/aclImdb_v1.tar.gz\"\n",
        "\n",
        "dataset = tf.keras.utils.get_file(\"aclImdb_v1\", url,\n",
        "                                    untar=True, cache_dir='.',\n",
        "                                    cache_subdir='')\n",
        "\n",
        "dataset_dir = os.path.join(os.path.dirname(dataset), 'aclImdb')\n",
        "#Verilen url'ye göre veri seti indiriliyor."
      ]
    },
    {
      "cell_type": "code",
      "execution_count": null,
      "metadata": {
        "id": "4ubyeIqV84Eg"
      },
      "outputs": [],
      "source": [
        "train_dir = os.path.join(dataset_dir, 'train')\n"
      ]
    },
    {
      "cell_type": "code",
      "execution_count": null,
      "metadata": {
        "id": "lVdU_Me38Scv"
      },
      "outputs": [],
      "source": [
        "remove_dir = os.path.join(train_dir, 'unsup')\n",
        "shutil.rmtree(remove_dir)"
      ]
    },
    {
      "cell_type": "code",
      "execution_count": null,
      "metadata": {
        "colab": {
          "base_uri": "https://localhost:8080/"
        },
        "id": "Da6JmKfx8SfX",
        "outputId": "136ff08f-34b6-4e3d-d1a1-ce9992f591ce"
      },
      "outputs": [
        {
          "name": "stdout",
          "output_type": "stream",
          "text": [
            "Found 25000 files belonging to 2 classes.\n",
            "Using 20000 files for training.\n"
          ]
        }
      ],
      "source": [
        "batch_size = 250 #bir tekrarda işlenen örnek sayısı\n",
        "seed = 42\n",
        "\n",
        "raw_train_ds = tf.keras.utils.text_dataset_from_directory(\n",
        "    'aclImdb/train', \n",
        "    batch_size=batch_size, \n",
        "    validation_split=0.2, \n",
        "    subset='training',\n",
        "    shuffle=True,\n",
        "    seed=seed)\n",
        "#Eğitim 3'e ayrıldı. Bu kısım train kısmı."
      ]
    },
    {
      "cell_type": "code",
      "execution_count": null,
      "metadata": {
        "colab": {
          "base_uri": "https://localhost:8080/"
        },
        "id": "fJQLAvFo8Sji",
        "outputId": "b643a4a2-9fd6-4d97-999e-da7a0754d382"
      },
      "outputs": [
        {
          "name": "stdout",
          "output_type": "stream",
          "text": [
            "Label 0 corresponds to neg\n",
            "Label 1 corresponds to pos\n"
          ]
        }
      ],
      "source": [
        "print(\"Label 0 corresponds to\", raw_train_ds.class_names[0])\n",
        "print(\"Label 1 corresponds to\", raw_train_ds.class_names[1])"
      ]
    },
    {
      "cell_type": "code",
      "execution_count": null,
      "metadata": {
        "colab": {
          "base_uri": "https://localhost:8080/"
        },
        "id": "LKHpHLgI9SMe",
        "outputId": "0e576ef3-6e5d-4087-80b5-0750b4695dc3"
      },
      "outputs": [
        {
          "name": "stdout",
          "output_type": "stream",
          "text": [
            "Found 25000 files belonging to 2 classes.\n",
            "Using 5000 files for validation.\n"
          ]
        }
      ],
      "source": [
        "raw_val_ds = tf.keras.utils.text_dataset_from_directory(\n",
        "    'aclImdb/train', \n",
        "    batch_size=batch_size, \n",
        "    validation_split=0.2, \n",
        "    subset='validation', \n",
        "    seed=seed)\n",
        "#Eğitimin doğrulama kısmı"
      ]
    },
    {
      "cell_type": "code",
      "execution_count": null,
      "metadata": {
        "colab": {
          "base_uri": "https://localhost:8080/"
        },
        "id": "x0Xj1eS19Vid",
        "outputId": "e749236d-d5bf-4a01-e4ae-094091e99d34"
      },
      "outputs": [
        {
          "name": "stdout",
          "output_type": "stream",
          "text": [
            "Found 25000 files belonging to 2 classes.\n"
          ]
        }
      ],
      "source": [
        "raw_test_ds = tf.keras.utils.text_dataset_from_directory(\n",
        "    'aclImdb/test', \n",
        "    batch_size=batch_size)\n",
        "#Eğitimin test kısmı"
      ]
    },
    {
      "cell_type": "code",
      "execution_count": null,
      "metadata": {
        "id": "lcLUzVn39bNA"
      },
      "outputs": [],
      "source": [
        "def custom_standardization(input_data):\n",
        "  lowercase = tf.strings.lower(input_data)\n",
        "  stripped_html = tf.strings.regex_replace(lowercase, '<br />', ' ')\n",
        "  return tf.strings.regex_replace(stripped_html,\n",
        "                                  '[%s]' % re.escape(string.punctuation),\n",
        "                                  '')\n",
        "  #stringleri okunabilir şekilde yeniden yapılandırır."
      ]
    },
    {
      "cell_type": "code",
      "execution_count": null,
      "metadata": {
        "id": "CrgcAGxk9e2G"
      },
      "outputs": [],
      "source": [
        "max_features = 10000\n",
        "sequence_length =500\n",
        "\n",
        "vectorize_layer = layers.TextVectorization(\n",
        "    standardize=custom_standardization,\n",
        "    max_tokens=max_features,\n",
        "    output_mode='int',\n",
        "    output_sequence_length=sequence_length)\n",
        "#Verileri vektörleştirmek için kullanılan katman.\n",
        "#Model tam sayılara dizi dizini oluşturur."
      ]
    },
    {
      "cell_type": "code",
      "execution_count": null,
      "metadata": {
        "id": "WqtXK-3x9i1M"
      },
      "outputs": [],
      "source": [
        "train_text = raw_train_ds.map(lambda x, y: x)\n",
        "vectorize_layer.adapt(train_text)\n",
        "#İşlenmemiş metin veri kümesi haline getirilir."
      ]
    },
    {
      "cell_type": "code",
      "execution_count": null,
      "metadata": {
        "id": "TVffwSjw9n9a"
      },
      "outputs": [],
      "source": [
        "def vectorize_text(text, label):\n",
        "  text = tf.expand_dims(text, -1)\n",
        "  return vectorize_layer(text), label\n",
        "  #Veri kümesi haline gelen metni test eder."
      ]
    },
    {
      "cell_type": "code",
      "execution_count": null,
      "metadata": {
        "colab": {
          "base_uri": "https://localhost:8080/"
        },
        "id": "-hqSCQdp9sQO",
        "outputId": "8b318c44-d6fa-4fc8-98aa-6f11d984c3bd"
      },
      "outputs": [
        {
          "name": "stdout",
          "output_type": "stream",
          "text": [
            "Review tf.Tensor(b'Prominent attorney Walter Pidgeon takes a murder case pro bono, wins an acquittal and discovers that his client (Keefe Braselle) was not only guilty but part of an extortion ring reaching to the highest eschelons of the city. Panged by his own complicity, he undertakes an investigation, stumbles onto the identity of the \"unknown man\" who heads the syndicate, and murders him.<br /><br />The ironies engage when Braselle is charged with this second murder and Pidgeon must defend him by pointing to the existence of another \"unknown man\" -- himself. Though somewhat short of urban grit and long on rhetoric, the Unknown Man belongs to the noir cycle less by style or structure than by its acknowledgement of the pervasive corruption of American municipal politics that came to light in the postwar years.', shape=(), dtype=string)\n",
            "Label pos\n",
            "Vectorized review (<tf.Tensor: shape=(1, 500), dtype=int64, numpy=\n",
            "array([[5511, 4964, 2312,    1,  294,    4,  578,  401, 5369,    1, 2758,\n",
            "          33,    1,    3, 2042,   12,   24, 8133,    1,    1,   13,   21,\n",
            "          61, 2305,   18,  170,    5,   33,    1, 1675, 4102,    6,    2,\n",
            "        3887,    1,    5,    2,  545,    1,   32,   24,  196,    1,   27,\n",
            "           1,   33, 3430, 5569, 1651,    2, 2158,    5,    2, 1804,  130,\n",
            "          36, 1831,    2,    1,    3, 1473,   85,    2,    1, 4252,   51,\n",
            "           1,    7, 5341,   16,   11,  333,  578,    3,    1,  219, 4505,\n",
            "          85,   32, 7336,    6,    2, 2036,    5,  154, 1804,  130,  301,\n",
            "         147,  649,  350,    5, 2725,    1,    3,  209,   20,    1,    2,\n",
            "        1804,  130, 3135,    6,    2, 1451, 6996,  322,   32,  433,   41,\n",
            "        2417,   70,   32,   29,    1,    5,    2,    1, 4297,    5,  312,\n",
            "           1, 2474,   12,  371,    6,  694,    8,    2, 6271,  149,    0,\n",
            "           0,    0,    0,    0,    0,    0,    0,    0,    0,    0,    0,\n",
            "           0,    0,    0,    0,    0,    0,    0,    0,    0,    0,    0,\n",
            "           0,    0,    0,    0,    0,    0,    0,    0,    0,    0,    0,\n",
            "           0,    0,    0,    0,    0,    0,    0,    0,    0,    0,    0,\n",
            "           0,    0,    0,    0,    0,    0,    0,    0,    0,    0,    0,\n",
            "           0,    0,    0,    0,    0,    0,    0,    0,    0,    0,    0,\n",
            "           0,    0,    0,    0,    0,    0,    0,    0,    0,    0,    0,\n",
            "           0,    0,    0,    0,    0,    0,    0,    0,    0,    0,    0,\n",
            "           0,    0,    0,    0,    0,    0,    0,    0,    0,    0,    0,\n",
            "           0,    0,    0,    0,    0,    0,    0,    0,    0,    0,    0,\n",
            "           0,    0,    0,    0,    0,    0,    0,    0,    0,    0,    0,\n",
            "           0,    0,    0,    0,    0,    0,    0,    0,    0,    0,    0,\n",
            "           0,    0,    0,    0,    0,    0,    0,    0,    0,    0,    0,\n",
            "           0,    0,    0,    0,    0,    0,    0,    0,    0,    0,    0,\n",
            "           0,    0,    0,    0,    0,    0,    0,    0,    0,    0,    0,\n",
            "           0,    0,    0,    0,    0,    0,    0,    0,    0,    0,    0,\n",
            "           0,    0,    0,    0,    0,    0,    0,    0,    0,    0,    0,\n",
            "           0,    0,    0,    0,    0,    0,    0,    0,    0,    0,    0,\n",
            "           0,    0,    0,    0,    0,    0,    0,    0,    0,    0,    0,\n",
            "           0,    0,    0,    0,    0,    0,    0,    0,    0,    0,    0,\n",
            "           0,    0,    0,    0,    0,    0,    0,    0,    0,    0,    0,\n",
            "           0,    0,    0,    0,    0,    0,    0,    0,    0,    0,    0,\n",
            "           0,    0,    0,    0,    0,    0,    0,    0,    0,    0,    0,\n",
            "           0,    0,    0,    0,    0,    0,    0,    0,    0,    0,    0,\n",
            "           0,    0,    0,    0,    0,    0,    0,    0,    0,    0,    0,\n",
            "           0,    0,    0,    0,    0,    0,    0,    0,    0,    0,    0,\n",
            "           0,    0,    0,    0,    0,    0,    0,    0,    0,    0,    0,\n",
            "           0,    0,    0,    0,    0,    0,    0,    0,    0,    0,    0,\n",
            "           0,    0,    0,    0,    0,    0,    0,    0,    0,    0,    0,\n",
            "           0,    0,    0,    0,    0,    0,    0,    0,    0,    0,    0,\n",
            "           0,    0,    0,    0,    0,    0,    0,    0,    0,    0,    0,\n",
            "           0,    0,    0,    0,    0,    0,    0,    0,    0,    0,    0,\n",
            "           0,    0,    0,    0,    0,    0,    0,    0,    0,    0,    0,\n",
            "           0,    0,    0,    0,    0]])>, <tf.Tensor: shape=(), dtype=int32, numpy=1>)\n"
          ]
        }
      ],
      "source": [
        "text_batch, label_batch = next(iter(raw_train_ds))\n",
        "first_review, first_label = text_batch[0], label_batch[0]\n",
        "print(\"Review\", first_review)\n",
        "print(\"Label\", raw_train_ds.class_names[first_label])\n",
        "print(\"Vectorized review\", vectorize_text(first_review, first_label)) \n",
        "#Çekilen yorumdaki her kelime bir sayıyı temsil eder.\n",
        "#Yoruma göre sayı matrisi oluşturulur."
      ]
    },
    {
      "cell_type": "code",
      "execution_count": null,
      "metadata": {
        "id": "dABv0aKh92U5"
      },
      "outputs": [],
      "source": [
        "train_ds = raw_train_ds.map(vectorize_text)\n",
        "val_ds = raw_val_ds.map(vectorize_text)\n",
        "test_ds = raw_test_ds.map(vectorize_text)\n",
        "#TextVectorization katmanı train doğrulama ve test, veri kümesine uygular."
      ]
    },
    {
      "cell_type": "code",
      "execution_count": null,
      "metadata": {
        "id": "YNAXZelu95xM"
      },
      "outputs": [],
      "source": [
        "AUTOTUNE = tf.data.AUTOTUNE\n",
        "\n",
        "train_ds = train_ds.cache().prefetch(buffer_size=AUTOTUNE)\n",
        "val_ds = val_ds.cache().prefetch(buffer_size=AUTOTUNE)\n",
        "test_ds = test_ds.cache().prefetch(buffer_size=AUTOTUNE)"
      ]
    },
    {
      "cell_type": "code",
      "execution_count": null,
      "metadata": {
        "colab": {
          "base_uri": "https://localhost:8080/"
        },
        "id": "_dgl_vq8996l",
        "outputId": "c95a5ec3-f58c-499b-f830-695afecd239f"
      },
      "outputs": [
        {
          "name": "stdout",
          "output_type": "stream",
          "text": [
            "Model: \"sequential\"\n",
            "_________________________________________________________________\n",
            " Layer (type)                Output Shape              Param #   \n",
            "=================================================================\n",
            " embedding (Embedding)       (None, None, 16)          160016    \n",
            "                                                                 \n",
            " dropout (Dropout)           (None, None, 16)          0         \n",
            "                                                                 \n",
            " global_average_pooling1d (G  (None, 16)               0         \n",
            " lobalAveragePooling1D)                                          \n",
            "                                                                 \n",
            " dropout_1 (Dropout)         (None, 16)                0         \n",
            "                                                                 \n",
            " dense (Dense)               (None, 1)                 17        \n",
            "                                                                 \n",
            "=================================================================\n",
            "Total params: 160,033\n",
            "Trainable params: 160,033\n",
            "Non-trainable params: 0\n",
            "_________________________________________________________________\n"
          ]
        }
      ],
      "source": [
        "embedding_dim = 16\n",
        "model = tf.keras.Sequential([\n",
        "  layers.Embedding(max_features + 1, embedding_dim),\n",
        "  layers.Dropout(0.2),\n",
        "  layers.GlobalAveragePooling1D(),\n",
        "  layers.Dropout(0.2),\n",
        "  layers.Dense(1)])\n",
        "\n",
        "model.summary()\n",
        "#Bu katman, tamsayı kodlu incelemeleri alır ve her bir \n",
        "#kelime dizini için bir gömme vektörü arar. \n",
        "#Bu vektörler model trainler olarak öğrenilir."
      ]
    },
    {
      "cell_type": "code",
      "execution_count": null,
      "metadata": {
        "id": "fnapjpkJ-DEV"
      },
      "outputs": [],
      "source": [
        "model.compile(loss=losses.BinaryCrossentropy(from_logits=True),\n",
        "              optimizer='adam',\n",
        "              metrics=tf.metrics.BinaryAccuracy(threshold=0.0)) \n",
        "#Kayıp fonksiyonu, optimize edici fonksiyon."
      ]
    },
    {
      "cell_type": "code",
      "execution_count": null,
      "metadata": {
        "colab": {
          "background_save": true,
          "base_uri": "https://localhost:8080/"
        },
        "id": "ShlEH4Ru-Fr_",
        "outputId": "14fef310-9c9e-4794-f824-2ba310995e3f"
      },
      "outputs": [
        {
          "name": "stdout",
          "output_type": "stream",
          "text": [
            "Epoch 1/100\n",
            "80/80 [==============================] - 9s 94ms/step - loss: 0.6912 - binary_accuracy: 0.5653 - val_loss: 0.6890 - val_binary_accuracy: 0.6312\n",
            "Epoch 2/100\n",
            "80/80 [==============================] - 3s 32ms/step - loss: 0.6853 - binary_accuracy: 0.6449 - val_loss: 0.6818 - val_binary_accuracy: 0.6850\n",
            "Epoch 3/100\n",
            "80/80 [==============================] - 3s 33ms/step - loss: 0.6754 - binary_accuracy: 0.6865 - val_loss: 0.6708 - val_binary_accuracy: 0.7102\n",
            "Epoch 4/100\n",
            "80/80 [==============================] - 3s 32ms/step - loss: 0.6618 - binary_accuracy: 0.7183 - val_loss: 0.6563 - val_binary_accuracy: 0.7344\n",
            "Epoch 5/100\n",
            "80/80 [==============================] - 3s 32ms/step - loss: 0.6449 - binary_accuracy: 0.7430 - val_loss: 0.6395 - val_binary_accuracy: 0.7542\n",
            "Epoch 6/100\n",
            "80/80 [==============================] - 3s 33ms/step - loss: 0.6258 - binary_accuracy: 0.7649 - val_loss: 0.6213 - val_binary_accuracy: 0.7620\n",
            "Epoch 7/100\n",
            "80/80 [==============================] - 3s 33ms/step - loss: 0.6059 - binary_accuracy: 0.7792 - val_loss: 0.6026 - val_binary_accuracy: 0.7720\n",
            "Epoch 8/100\n",
            "80/80 [==============================] - 3s 32ms/step - loss: 0.5854 - binary_accuracy: 0.7919 - val_loss: 0.5838 - val_binary_accuracy: 0.7864\n",
            "Epoch 9/100\n",
            "80/80 [==============================] - 3s 32ms/step - loss: 0.5660 - binary_accuracy: 0.8029 - val_loss: 0.5653 - val_binary_accuracy: 0.7958\n",
            "Epoch 10/100\n",
            "80/80 [==============================] - 3s 32ms/step - loss: 0.5464 - binary_accuracy: 0.8126 - val_loss: 0.5475 - val_binary_accuracy: 0.8054\n",
            "Epoch 11/100\n",
            "80/80 [==============================] - 3s 33ms/step - loss: 0.5272 - binary_accuracy: 0.8230 - val_loss: 0.5305 - val_binary_accuracy: 0.8130\n",
            "Epoch 12/100\n",
            "80/80 [==============================] - 3s 32ms/step - loss: 0.5099 - binary_accuracy: 0.8309 - val_loss: 0.5140 - val_binary_accuracy: 0.8226\n",
            "Epoch 13/100\n",
            "80/80 [==============================] - 3s 32ms/step - loss: 0.4926 - binary_accuracy: 0.8387 - val_loss: 0.4985 - val_binary_accuracy: 0.8310\n",
            "Epoch 14/100\n",
            "80/80 [==============================] - 3s 33ms/step - loss: 0.4757 - binary_accuracy: 0.8472 - val_loss: 0.4839 - val_binary_accuracy: 0.8384\n",
            "Epoch 15/100\n",
            "80/80 [==============================] - 3s 32ms/step - loss: 0.4610 - binary_accuracy: 0.8523 - val_loss: 0.4704 - val_binary_accuracy: 0.8418\n",
            "Epoch 16/100\n",
            "80/80 [==============================] - 3s 32ms/step - loss: 0.4462 - binary_accuracy: 0.8591 - val_loss: 0.4576 - val_binary_accuracy: 0.8466\n",
            "Epoch 17/100\n",
            "80/80 [==============================] - 3s 33ms/step - loss: 0.4336 - binary_accuracy: 0.8639 - val_loss: 0.4457 - val_binary_accuracy: 0.8490\n",
            "Epoch 18/100\n",
            "80/80 [==============================] - 3s 32ms/step - loss: 0.4210 - binary_accuracy: 0.8672 - val_loss: 0.4347 - val_binary_accuracy: 0.8496\n",
            "Epoch 19/100\n",
            "80/80 [==============================] - 3s 32ms/step - loss: 0.4091 - binary_accuracy: 0.8706 - val_loss: 0.4244 - val_binary_accuracy: 0.8520\n",
            "Epoch 20/100\n",
            "80/80 [==============================] - 3s 32ms/step - loss: 0.3990 - binary_accuracy: 0.8745 - val_loss: 0.4149 - val_binary_accuracy: 0.8546\n",
            "Epoch 21/100\n",
            "80/80 [==============================] - 3s 32ms/step - loss: 0.3883 - binary_accuracy: 0.8762 - val_loss: 0.4062 - val_binary_accuracy: 0.8570\n",
            "Epoch 22/100\n",
            "80/80 [==============================] - 3s 32ms/step - loss: 0.3792 - binary_accuracy: 0.8788 - val_loss: 0.3979 - val_binary_accuracy: 0.8600\n",
            "Epoch 23/100\n",
            "80/80 [==============================] - 3s 32ms/step - loss: 0.3703 - binary_accuracy: 0.8803 - val_loss: 0.3905 - val_binary_accuracy: 0.8608\n",
            "Epoch 24/100\n",
            "80/80 [==============================] - 3s 32ms/step - loss: 0.3612 - binary_accuracy: 0.8838 - val_loss: 0.3832 - val_binary_accuracy: 0.8634\n",
            "Epoch 25/100\n",
            "80/80 [==============================] - 3s 32ms/step - loss: 0.3534 - binary_accuracy: 0.8856 - val_loss: 0.3767 - val_binary_accuracy: 0.8644\n",
            "Epoch 26/100\n",
            "80/80 [==============================] - 3s 32ms/step - loss: 0.3466 - binary_accuracy: 0.8873 - val_loss: 0.3706 - val_binary_accuracy: 0.8660\n",
            "Epoch 27/100\n",
            "80/80 [==============================] - 3s 32ms/step - loss: 0.3399 - binary_accuracy: 0.8897 - val_loss: 0.3648 - val_binary_accuracy: 0.8684\n",
            "Epoch 28/100\n",
            "80/80 [==============================] - 3s 32ms/step - loss: 0.3328 - binary_accuracy: 0.8907 - val_loss: 0.3594 - val_binary_accuracy: 0.8702\n",
            "Epoch 29/100\n",
            "80/80 [==============================] - 3s 32ms/step - loss: 0.3258 - binary_accuracy: 0.8929 - val_loss: 0.3542 - val_binary_accuracy: 0.8718\n",
            "Epoch 30/100\n",
            "80/80 [==============================] - 3s 32ms/step - loss: 0.3197 - binary_accuracy: 0.8957 - val_loss: 0.3495 - val_binary_accuracy: 0.8730\n",
            "Epoch 31/100\n",
            "80/80 [==============================] - 3s 32ms/step - loss: 0.3145 - binary_accuracy: 0.8959 - val_loss: 0.3451 - val_binary_accuracy: 0.8738\n",
            "Epoch 32/100\n",
            "80/80 [==============================] - 3s 32ms/step - loss: 0.3090 - binary_accuracy: 0.8988 - val_loss: 0.3409 - val_binary_accuracy: 0.8754\n",
            "Epoch 33/100\n",
            "80/80 [==============================] - 3s 32ms/step - loss: 0.3035 - binary_accuracy: 0.8985 - val_loss: 0.3371 - val_binary_accuracy: 0.8764\n",
            "Epoch 34/100\n",
            "80/80 [==============================] - 3s 32ms/step - loss: 0.2984 - binary_accuracy: 0.9002 - val_loss: 0.3332 - val_binary_accuracy: 0.8784\n",
            "Epoch 35/100\n",
            "80/80 [==============================] - 3s 33ms/step - loss: 0.2941 - binary_accuracy: 0.9025 - val_loss: 0.3296 - val_binary_accuracy: 0.8794\n",
            "Epoch 36/100\n",
            "80/80 [==============================] - 3s 32ms/step - loss: 0.2892 - binary_accuracy: 0.9029 - val_loss: 0.3263 - val_binary_accuracy: 0.8794\n",
            "Epoch 37/100\n",
            "80/80 [==============================] - 3s 32ms/step - loss: 0.2846 - binary_accuracy: 0.9058 - val_loss: 0.3232 - val_binary_accuracy: 0.8802\n",
            "Epoch 38/100\n",
            "80/80 [==============================] - 3s 33ms/step - loss: 0.2805 - binary_accuracy: 0.9061 - val_loss: 0.3202 - val_binary_accuracy: 0.8820\n",
            "Epoch 39/100\n",
            "80/80 [==============================] - 3s 32ms/step - loss: 0.2758 - binary_accuracy: 0.9081 - val_loss: 0.3175 - val_binary_accuracy: 0.8818\n",
            "Epoch 40/100\n",
            "80/80 [==============================] - 3s 32ms/step - loss: 0.2718 - binary_accuracy: 0.9103 - val_loss: 0.3148 - val_binary_accuracy: 0.8828\n",
            "Epoch 41/100\n",
            "80/80 [==============================] - 3s 32ms/step - loss: 0.2684 - binary_accuracy: 0.9108 - val_loss: 0.3124 - val_binary_accuracy: 0.8830\n",
            "Epoch 42/100\n",
            "80/80 [==============================] - 3s 32ms/step - loss: 0.2646 - binary_accuracy: 0.9115 - val_loss: 0.3099 - val_binary_accuracy: 0.8824\n",
            "Epoch 43/100\n",
            "80/80 [==============================] - 3s 32ms/step - loss: 0.2608 - binary_accuracy: 0.9128 - val_loss: 0.3078 - val_binary_accuracy: 0.8840\n",
            "Epoch 44/100\n",
            "80/80 [==============================] - 3s 32ms/step - loss: 0.2573 - binary_accuracy: 0.9140 - val_loss: 0.3054 - val_binary_accuracy: 0.8828\n",
            "Epoch 45/100\n",
            "80/80 [==============================] - 3s 32ms/step - loss: 0.2535 - binary_accuracy: 0.9151 - val_loss: 0.3033 - val_binary_accuracy: 0.8828\n",
            "Epoch 46/100\n",
            "80/80 [==============================] - 3s 32ms/step - loss: 0.2498 - binary_accuracy: 0.9164 - val_loss: 0.3014 - val_binary_accuracy: 0.8828\n",
            "Epoch 47/100\n",
            "80/80 [==============================] - 3s 33ms/step - loss: 0.2473 - binary_accuracy: 0.9183 - val_loss: 0.2996 - val_binary_accuracy: 0.8836\n",
            "Epoch 48/100\n",
            "80/80 [==============================] - 3s 32ms/step - loss: 0.2441 - binary_accuracy: 0.9178 - val_loss: 0.2978 - val_binary_accuracy: 0.8840\n",
            "Epoch 49/100\n",
            "80/80 [==============================] - 3s 32ms/step - loss: 0.2405 - binary_accuracy: 0.9180 - val_loss: 0.2962 - val_binary_accuracy: 0.8840\n",
            "Epoch 50/100\n",
            "80/80 [==============================] - 3s 32ms/step - loss: 0.2374 - binary_accuracy: 0.9207 - val_loss: 0.2945 - val_binary_accuracy: 0.8842\n",
            "Epoch 51/100\n",
            "80/80 [==============================] - 3s 32ms/step - loss: 0.2345 - binary_accuracy: 0.9219 - val_loss: 0.2930 - val_binary_accuracy: 0.8852\n",
            "Epoch 52/100\n",
            "80/80 [==============================] - 3s 32ms/step - loss: 0.2320 - binary_accuracy: 0.9222 - val_loss: 0.2916 - val_binary_accuracy: 0.8858\n",
            "Epoch 53/100\n",
            "80/80 [==============================] - 3s 32ms/step - loss: 0.2289 - binary_accuracy: 0.9217 - val_loss: 0.2902 - val_binary_accuracy: 0.8854\n",
            "Epoch 54/100\n",
            "80/80 [==============================] - 3s 33ms/step - loss: 0.2261 - binary_accuracy: 0.9249 - val_loss: 0.2889 - val_binary_accuracy: 0.8850\n",
            "Epoch 55/100\n",
            "80/80 [==============================] - 3s 33ms/step - loss: 0.2237 - binary_accuracy: 0.9262 - val_loss: 0.2877 - val_binary_accuracy: 0.8860\n",
            "Epoch 56/100\n",
            "80/80 [==============================] - 3s 32ms/step - loss: 0.2211 - binary_accuracy: 0.9265 - val_loss: 0.2866 - val_binary_accuracy: 0.8876\n",
            "Epoch 57/100\n",
            "80/80 [==============================] - 3s 33ms/step - loss: 0.2186 - binary_accuracy: 0.9264 - val_loss: 0.2855 - val_binary_accuracy: 0.8874\n",
            "Epoch 58/100\n",
            "80/80 [==============================] - 3s 32ms/step - loss: 0.2152 - binary_accuracy: 0.9280 - val_loss: 0.2844 - val_binary_accuracy: 0.8880\n",
            "Epoch 59/100\n",
            "80/80 [==============================] - 3s 32ms/step - loss: 0.2142 - binary_accuracy: 0.9290 - val_loss: 0.2834 - val_binary_accuracy: 0.8878\n",
            "Epoch 60/100\n",
            "80/80 [==============================] - 3s 33ms/step - loss: 0.2106 - binary_accuracy: 0.9292 - val_loss: 0.2825 - val_binary_accuracy: 0.8886\n",
            "Epoch 61/100\n",
            "80/80 [==============================] - 3s 32ms/step - loss: 0.2089 - binary_accuracy: 0.9316 - val_loss: 0.2816 - val_binary_accuracy: 0.8888\n",
            "Epoch 62/100\n",
            "80/80 [==============================] - 3s 32ms/step - loss: 0.2069 - binary_accuracy: 0.9307 - val_loss: 0.2809 - val_binary_accuracy: 0.8890\n",
            "Epoch 63/100\n",
            "80/80 [==============================] - 3s 32ms/step - loss: 0.2028 - binary_accuracy: 0.9339 - val_loss: 0.2801 - val_binary_accuracy: 0.8900\n",
            "Epoch 64/100\n",
            "80/80 [==============================] - 3s 32ms/step - loss: 0.2019 - binary_accuracy: 0.9329 - val_loss: 0.2795 - val_binary_accuracy: 0.8900\n",
            "Epoch 65/100\n",
            "80/80 [==============================] - 3s 32ms/step - loss: 0.1996 - binary_accuracy: 0.9338 - val_loss: 0.2787 - val_binary_accuracy: 0.8904\n",
            "Epoch 66/100\n",
            "80/80 [==============================] - 3s 32ms/step - loss: 0.1971 - binary_accuracy: 0.9344 - val_loss: 0.2781 - val_binary_accuracy: 0.8910\n",
            "Epoch 67/100\n",
            "80/80 [==============================] - 3s 32ms/step - loss: 0.1947 - binary_accuracy: 0.9353 - val_loss: 0.2775 - val_binary_accuracy: 0.8908\n",
            "Epoch 68/100\n",
            "80/80 [==============================] - 3s 33ms/step - loss: 0.1934 - binary_accuracy: 0.9365 - val_loss: 0.2769 - val_binary_accuracy: 0.8912\n",
            "Epoch 69/100\n",
            "80/80 [==============================] - 3s 33ms/step - loss: 0.1906 - binary_accuracy: 0.9376 - val_loss: 0.2764 - val_binary_accuracy: 0.8908\n",
            "Epoch 70/100\n",
            "80/80 [==============================] - 3s 32ms/step - loss: 0.1883 - binary_accuracy: 0.9375 - val_loss: 0.2758 - val_binary_accuracy: 0.8924\n",
            "Epoch 71/100\n",
            "80/80 [==============================] - 3s 33ms/step - loss: 0.1869 - binary_accuracy: 0.9374 - val_loss: 0.2755 - val_binary_accuracy: 0.8918\n",
            "Epoch 72/100\n",
            "80/80 [==============================] - 3s 33ms/step - loss: 0.1848 - binary_accuracy: 0.9390 - val_loss: 0.2749 - val_binary_accuracy: 0.8922\n",
            "Epoch 73/100\n",
            "80/80 [==============================] - 3s 33ms/step - loss: 0.1829 - binary_accuracy: 0.9392 - val_loss: 0.2747 - val_binary_accuracy: 0.8924\n",
            "Epoch 74/100\n",
            "80/80 [==============================] - 3s 32ms/step - loss: 0.1805 - binary_accuracy: 0.9410 - val_loss: 0.2744 - val_binary_accuracy: 0.8924\n",
            "Epoch 75/100\n",
            "80/80 [==============================] - 3s 33ms/step - loss: 0.1801 - binary_accuracy: 0.9416 - val_loss: 0.2742 - val_binary_accuracy: 0.8920\n",
            "Epoch 76/100\n",
            "80/80 [==============================] - 3s 32ms/step - loss: 0.1762 - binary_accuracy: 0.9435 - val_loss: 0.2740 - val_binary_accuracy: 0.8916\n",
            "Epoch 77/100\n",
            "80/80 [==============================] - 3s 33ms/step - loss: 0.1762 - binary_accuracy: 0.9419 - val_loss: 0.2737 - val_binary_accuracy: 0.8924\n",
            "Epoch 78/100\n",
            "80/80 [==============================] - 3s 32ms/step - loss: 0.1729 - binary_accuracy: 0.9440 - val_loss: 0.2736 - val_binary_accuracy: 0.8924\n",
            "Epoch 79/100\n",
            "80/80 [==============================] - 3s 33ms/step - loss: 0.1715 - binary_accuracy: 0.9444 - val_loss: 0.2734 - val_binary_accuracy: 0.8922\n",
            "Epoch 80/100\n",
            "80/80 [==============================] - 3s 32ms/step - loss: 0.1704 - binary_accuracy: 0.9453 - val_loss: 0.2733 - val_binary_accuracy: 0.8920\n",
            "Epoch 81/100\n",
            "80/80 [==============================] - 3s 33ms/step - loss: 0.1683 - binary_accuracy: 0.9460 - val_loss: 0.2734 - val_binary_accuracy: 0.8912\n",
            "Epoch 82/100\n",
            "80/80 [==============================] - 3s 33ms/step - loss: 0.1672 - binary_accuracy: 0.9463 - val_loss: 0.2731 - val_binary_accuracy: 0.8918\n",
            "Epoch 83/100\n",
            "80/80 [==============================] - 3s 33ms/step - loss: 0.1657 - binary_accuracy: 0.9464 - val_loss: 0.2732 - val_binary_accuracy: 0.8912\n",
            "Epoch 84/100\n",
            "80/80 [==============================] - 3s 33ms/step - loss: 0.1627 - binary_accuracy: 0.9469 - val_loss: 0.2734 - val_binary_accuracy: 0.8910\n",
            "Epoch 85/100\n",
            "80/80 [==============================] - 3s 33ms/step - loss: 0.1616 - binary_accuracy: 0.9479 - val_loss: 0.2732 - val_binary_accuracy: 0.8920\n",
            "Epoch 86/100\n",
            "80/80 [==============================] - 3s 33ms/step - loss: 0.1600 - binary_accuracy: 0.9480 - val_loss: 0.2734 - val_binary_accuracy: 0.8918\n",
            "Epoch 87/100\n",
            "80/80 [==============================] - 3s 32ms/step - loss: 0.1584 - binary_accuracy: 0.9485 - val_loss: 0.2734 - val_binary_accuracy: 0.8924\n",
            "Epoch 88/100\n",
            "80/80 [==============================] - 3s 33ms/step - loss: 0.1575 - binary_accuracy: 0.9496 - val_loss: 0.2736 - val_binary_accuracy: 0.8914\n",
            "Epoch 89/100\n",
            "80/80 [==============================] - 3s 32ms/step - loss: 0.1548 - binary_accuracy: 0.9492 - val_loss: 0.2738 - val_binary_accuracy: 0.8914\n",
            "Epoch 90/100\n",
            "80/80 [==============================] - 3s 33ms/step - loss: 0.1535 - binary_accuracy: 0.9510 - val_loss: 0.2739 - val_binary_accuracy: 0.8920\n",
            "Epoch 91/100\n",
            "80/80 [==============================] - 3s 32ms/step - loss: 0.1526 - binary_accuracy: 0.9499 - val_loss: 0.2743 - val_binary_accuracy: 0.8916\n",
            "Epoch 92/100\n",
            "80/80 [==============================] - 3s 33ms/step - loss: 0.1517 - binary_accuracy: 0.9518 - val_loss: 0.2746 - val_binary_accuracy: 0.8914\n",
            "Epoch 93/100\n",
            "80/80 [==============================] - 3s 32ms/step - loss: 0.1495 - binary_accuracy: 0.9513 - val_loss: 0.2747 - val_binary_accuracy: 0.8920\n",
            "Epoch 94/100\n",
            "80/80 [==============================] - 3s 33ms/step - loss: 0.1476 - binary_accuracy: 0.9534 - val_loss: 0.2750 - val_binary_accuracy: 0.8920\n",
            "Epoch 95/100\n",
            "80/80 [==============================] - 3s 32ms/step - loss: 0.1461 - binary_accuracy: 0.9528 - val_loss: 0.2752 - val_binary_accuracy: 0.8924\n",
            "Epoch 96/100\n",
            "80/80 [==============================] - 3s 32ms/step - loss: 0.1452 - binary_accuracy: 0.9546 - val_loss: 0.2754 - val_binary_accuracy: 0.8920\n",
            "Epoch 97/100\n",
            "80/80 [==============================] - 3s 32ms/step - loss: 0.1436 - binary_accuracy: 0.9539 - val_loss: 0.2758 - val_binary_accuracy: 0.8920\n",
            "Epoch 98/100\n",
            "80/80 [==============================] - 3s 32ms/step - loss: 0.1429 - binary_accuracy: 0.9547 - val_loss: 0.2762 - val_binary_accuracy: 0.8918\n",
            "Epoch 99/100\n",
            "80/80 [==============================] - 3s 32ms/step - loss: 0.1410 - binary_accuracy: 0.9564 - val_loss: 0.2767 - val_binary_accuracy: 0.8922\n",
            "Epoch 100/100\n",
            "80/80 [==============================] - 3s 33ms/step - loss: 0.1393 - binary_accuracy: 0.9556 - val_loss: 0.2772 - val_binary_accuracy: 0.8918\n"
          ]
        }
      ],
      "source": [
        "epochs = 100 #Bir döngüde öğrenilen veri sayısı.\n",
        "history = model.fit(\n",
        "    train_ds,\n",
        "    validation_data=val_ds,\n",
        "    epochs=epochs)"
      ]
    },
    {
      "cell_type": "code",
      "execution_count": null,
      "metadata": {
        "colab": {
          "background_save": true,
          "base_uri": "https://localhost:8080/"
        },
        "id": "ChA2R7Jl-Mcu",
        "outputId": "d218dc36-b906-48c8-e715-da13dff02fae"
      },
      "outputs": [
        {
          "name": "stdout",
          "output_type": "stream",
          "text": [
            "100/100 [==============================] - 7s 63ms/step - loss: 0.2984 - binary_accuracy: 0.8840\n",
            "Loss:  0.298371285200119\n",
            "Accuracy:  0.8840000033378601\n"
          ]
        }
      ],
      "source": [
        "loss, accuracy = model.evaluate(test_ds)\n",
        "\n",
        "print(\"Loss: \", loss)\n",
        "print(\"Accuracy: \", accuracy) \n",
        "#ekrana kayıp değerleri ve doğrulama değerlerini yazdırır."
      ]
    },
    {
      "cell_type": "code",
      "execution_count": null,
      "metadata": {
        "colab": {
          "background_save": true,
          "base_uri": "https://localhost:8080/"
        },
        "id": "TguaUCl3-cp4",
        "outputId": "01cfce54-d738-4cd3-868a-8e1042bc8248"
      },
      "outputs": [
        {
          "data": {
            "text/plain": [
              "dict_keys(['loss', 'binary_accuracy', 'val_loss', 'val_binary_accuracy'])"
            ]
          },
          "execution_count": null,
          "metadata": {},
          "output_type": "execute_result"
        }
      ],
      "source": [
        "history_dict = history.history\n",
        "history_dict.keys()\n",
        "#Eğitim sırasındaki her şeyi history nesnesi döndürür."
      ]
    },
    {
      "cell_type": "code",
      "execution_count": null,
      "metadata": {
        "colab": {
          "background_save": true,
          "base_uri": "https://localhost:8080/",
          "height": 295
        },
        "id": "RyfkSZ5i-gwu",
        "outputId": "6e8fe10b-9174-4b5c-a782-e487112501ed"
      },
      "outputs": [
        {
          "data": {
            "image/png": "[encoded data removed]",
            "text/plain": [
              "<Figure size 432x288 with 1 Axes>"
            ]
          },
          "metadata": {},
          "output_type": "display_data"
        }
      ],
      "source": [
        "acc = history_dict['binary_accuracy']\n",
        "val_acc = history_dict['val_binary_accuracy']\n",
        "loss = history_dict['loss']\n",
        "val_loss = history_dict['val_loss']\n",
        "\n",
        "epochs = range(1, len(acc) + 1)\n",
        "plt.plot(epochs, loss, 'bo', label='Training loss')\n",
        "plt.plot(epochs, val_loss, 'b', label='Validation loss')\n",
        "plt.title('Training and validation loss')\n",
        "plt.xlabel('Epochs')\n",
        "plt.ylabel('Loss')\n",
        "plt.legend()\n",
        "\n",
        "plt.show()\n",
        "#kayıpları grafik haline getirip ekrana yazar."
      ]
    },
    {
      "cell_type": "code",
      "execution_count": null,
      "metadata": {
        "colab": {
          "background_save": true,
          "base_uri": "https://localhost:8080/",
          "height": 295
        },
        "id": "tVYS9C8D-kN6",
        "outputId": "a89d639a-ce88-46f1-d1f6-7b939e30dc3a"
      },
      "outputs": [
        {
          "data": {
            "image/png": "[encoded data removed]",
            "text/plain": [
              "<Figure size 432x288 with 1 Axes>"
            ]
          },
          "metadata": {},
          "output_type": "display_data"
        }
      ],
      "source": [
        "plt.plot(epochs, acc, 'bo', label='Training acc')\n",
        "plt.plot(epochs, val_acc, 'b', label='Validation acc')\n",
        "plt.title('Training and validation accuracy')\n",
        "plt.xlabel('Epochs')\n",
        "plt.ylabel('Accuracy')\n",
        "plt.legend(loc='lower right')\n",
        "\n",
        "plt.show()\n",
        "#Doğruluk grafiği oluşturup ekrana yazar."
      ]
    },
    {
      "cell_type": "code",
      "execution_count": null,
      "metadata": {
        "colab": {
          "background_save": true,
          "base_uri": "https://localhost:8080/"
        },
        "id": "kNqDjCwb-n9S",
        "outputId": "2bc9c392-b18b-47a3-d01f-54cc1eb17171"
      },
      "outputs": [
        {
          "name": "stdout",
          "output_type": "stream",
          "text": [
            "100/100 [==============================] - 7s 65ms/step - loss: 0.2984 - accuracy: 0.8840\n",
            "0.8840000033378601\n"
          ]
        }
      ],
      "source": [
        "export_model = tf.keras.Sequential([\n",
        "  vectorize_layer,\n",
        "  model,\n",
        "  layers.Activation('sigmoid')\n",
        "])\n",
        "\n",
        "export_model.compile(\n",
        "    loss=losses.BinaryCrossentropy(from_logits=False), optimizer=\"adam\", metrics=['accuracy']\n",
        ")\n",
        "\n",
        "loss, accuracy = export_model.evaluate(raw_test_ds)\n",
        "print(accuracy)\n",
        "#model dışa aktarılır."
      ]
    },
    {
      "cell_type": "code",
      "execution_count": null,
      "metadata": {
        "colab": {
          "background_save": true,
          "base_uri": "https://localhost:8080/"
        },
        "id": "L0uIp-Mf-ugn",
        "outputId": "2ad6d5c0-ec36-4043-f38d-1fbf47c98766"
      },
      "outputs": [
        {
          "data": {
            "text/plain": [
              "array([[0.87786806],\n",
              "       [0.36358368],\n",
              "       [0.57472616],\n",
              "       [0.23659453]], dtype=float32)"
            ]
          },
          "execution_count": null,
          "metadata": {},
          "output_type": "execute_result"
        }
      ],
      "source": [
        "examples = [\n",
        "  \"The Silence of the Lambs, having accomplished the rare feat of winning all five of the major Academy Award categories, is a remarkable achievement in filmmaking. Gruesome, pulpish material was transformed by dedicated participants on all levels of production, and a film that would have failed in the hands of many others wound up becoming a modern masterpiece. Taut direction and a superb screenplay might be the best arguments for the film's power, but the flashiest are certainly delivered in the bravura performances of Hopkins and Foster. Their interplay -- and remember, they only share a handful of scenes together -- is nothing short of riveting.\",\n",
        "  \"okay\",\n",
        "  \"best\",\n",
        "  \"worst\"\n",
        "]\n",
        "\n",
        "export_model.predict(examples)\n",
        "#Veriler girildiğinde test eder. Çıkan sayılar 1'e doğru yaklaştıkça yorum o kadar pozitiftir."
      ]
    }
  ],
  "metadata": {
    "accelerator": "GPU",
    "colab": {
      "collapsed_sections": [],
      "name": "IMDB.ipynb",
      "provenance": []
    },
    "kernelspec": {
      "display_name": "Python 3",
      "name": "python3"
    },
    "language_info": {
      "name": "python"
    }
  },
  "nbformat": 4,
  "nbformat_minor": 0
}